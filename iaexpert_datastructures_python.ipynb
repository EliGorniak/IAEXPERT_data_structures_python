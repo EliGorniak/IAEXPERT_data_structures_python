{
  "nbformat": 4,
  "nbformat_minor": 0,
  "metadata": {
    "colab": {
      "name": "iaexpert_datastructures_python.ipynb",
      "provenance": [],
      "collapsed_sections": [],
      "toc_visible": true,
      "authorship_tag": "ABX9TyOL4Z0hpU+QkIxaX4Pi7Og+",
      "include_colab_link": true
    },
    "kernelspec": {
      "name": "python3",
      "display_name": "Python 3"
    }
  },
  "cells": [
    {
      "cell_type": "markdown",
      "metadata": {
        "id": "view-in-github",
        "colab_type": "text"
      },
      "source": [
        "<a href=\"https://colab.research.google.com/github/EliGorniak/IAEXPERT_data_structures_python/blob/main/iaexpert_datastructures_python.ipynb\" target=\"_parent\"><img src=\"https://colab.research.google.com/assets/colab-badge.svg\" alt=\"Open In Colab\"/></a>"
      ]
    },
    {
      "cell_type": "markdown",
      "metadata": {
        "id": "9MLiQdfpK2lA"
      },
      "source": [
        "### **1. INTRODUÇÃO À ESTRUTURA DE DADOS**"
      ]
    },
    {
      "cell_type": "markdown",
      "metadata": {
        "id": "zqAjJ6iOST6v"
      },
      "source": [
        "É a disciplina que estuda as técnicas computacionais para a organização e manipulação eficiente de quaisquer quantidades de informações."
      ]
    },
    {
      "cell_type": "markdown",
      "metadata": {
        "id": "WiWMf8dXcDHZ"
      },
      "source": [
        "### **2. NOTAÇÃO BIG-O PARA ANÁLISE DE ALGORITMOS**"
      ]
    },
    {
      "cell_type": "markdown",
      "metadata": {
        "id": "t1D4A43NdRVd"
      },
      "source": [
        "- Como comparar dois algoritmos?\r\n",
        "- Comparação objetiva entre algoritmos\r\n",
        "- Considera diferenças entre o poder de processamento, sistema operacional, linguagem de programação, etc\r\n",
        "- Premissa: o quanto a complexidade do algoritmo aumenta de acordo com as entradas"
      ]
    },
    {
      "cell_type": "markdown",
      "metadata": {
        "id": "vhNoG8X0kFPz"
      },
      "source": [
        "### **2.1 Comparando as funções 1 e 2**"
      ]
    },
    {
      "cell_type": "markdown",
      "metadata": {
        "id": "9tSLBELddkat"
      },
      "source": [
        "#### **Função 1 - O(n)**"
      ]
    },
    {
      "cell_type": "code",
      "metadata": {
        "id": "k8uWGzmvKsrU"
      },
      "source": [
        "# esta função executa 11 passos\r\n",
        "# seu Big-O é O(n), pois dependendo do número de n, a função será mais ou menos complexa. Ex. n sendo 1000, vai executar 1001 passos até gerar o resultado.\r\n",
        "# é uma função muito complexa, não sendo 'escalável'\r\n",
        "# função do desenvolvedor A\r\n",
        "def soma1(n):\r\n",
        "  soma = 0\r\n",
        "  for i in range(n + 1):\r\n",
        "    soma += i\r\n",
        "  return soma"
      ],
      "execution_count": 1,
      "outputs": []
    },
    {
      "cell_type": "code",
      "metadata": {
        "colab": {
          "base_uri": "https://localhost:8080/"
        },
        "id": "GrHAoveJfFKQ",
        "outputId": "c49f1a84-8a7c-4b07-a607-09361da84bb8"
      },
      "source": [
        "# vamos verificar se esta função é eficiente\r\n",
        "soma1(10)"
      ],
      "execution_count": 2,
      "outputs": [
        {
          "output_type": "execute_result",
          "data": {
            "text/plain": [
              "55"
            ]
          },
          "metadata": {
            "tags": []
          },
          "execution_count": 2
        }
      ]
    },
    {
      "cell_type": "code",
      "metadata": {
        "colab": {
          "base_uri": "https://localhost:8080/"
        },
        "id": "pgPAuZoMfKMQ",
        "outputId": "a9458b44-df20-4120-b83c-6c397d6582b0"
      },
      "source": [
        "# esta função %timeit verifica o tempo necessário para o processamento da função soma1, no caso, em nanosegundos.\r\n",
        "%timeit soma1(10)"
      ],
      "execution_count": 4,
      "outputs": [
        {
          "output_type": "stream",
          "text": [
            "The slowest run took 34.86 times longer than the fastest. This could mean that an intermediate result is being cached.\n",
            "1000000 loops, best of 3: 628 ns per loop\n"
          ],
          "name": "stdout"
        }
      ]
    },
    {
      "cell_type": "markdown",
      "metadata": {
        "id": "2MhsKdB8d2DB"
      },
      "source": [
        "#### **Função 2**"
      ]
    },
    {
      "cell_type": "code",
      "metadata": {
        "id": "eYphUJb5d3tN"
      },
      "source": [
        "# esta função executa 3 passos\r\n",
        "# seu Big-O é O(3)\r\n",
        "# função do desenvolvedor B\r\n",
        "def soma2(n):\r\n",
        "  return (n * (n + 1)) / 2"
      ],
      "execution_count": 5,
      "outputs": []
    },
    {
      "cell_type": "code",
      "metadata": {
        "colab": {
          "base_uri": "https://localhost:8080/"
        },
        "id": "6iOnlRPdgGJK",
        "outputId": "91b6f3a1-4a93-436d-95e4-0e3000b0acc7"
      },
      "source": [
        "soma2(10)"
      ],
      "execution_count": 6,
      "outputs": [
        {
          "output_type": "execute_result",
          "data": {
            "text/plain": [
              "55.0"
            ]
          },
          "metadata": {
            "tags": []
          },
          "execution_count": 6
        }
      ]
    },
    {
      "cell_type": "code",
      "metadata": {
        "colab": {
          "base_uri": "https://localhost:8080/"
        },
        "id": "6D6BoVirgIYE",
        "outputId": "f0143537-183b-4a80-bee7-7f125a2600b8"
      },
      "source": [
        "# avaliando o desempenho da função\r\n",
        "%timeit soma2(10)"
      ],
      "execution_count": 7,
      "outputs": [
        {
          "output_type": "stream",
          "text": [
            "The slowest run took 16.19 times longer than the fastest. This could mean that an intermediate result is being cached.\n",
            "10000000 loops, best of 3: 116 ns per loop\n"
          ],
          "name": "stdout"
        }
      ]
    },
    {
      "cell_type": "markdown",
      "metadata": {
        "id": "UOmQV1VDkQML"
      },
      "source": [
        "### **2.2 Comparando as funções 3 e 4**"
      ]
    },
    {
      "cell_type": "markdown",
      "metadata": {
        "id": "qGe-SWIad24o"
      },
      "source": [
        "#### **Função 3**\r\n"
      ]
    },
    {
      "cell_type": "code",
      "metadata": {
        "id": "24yRmy8gK2IU"
      },
      "source": [
        "# esta função é mais lenta pois estamos criando uma lista de forma manual, a partir de uma lista vazia e preenchendo a lista a partir de cada for in.\r\n",
        "# função desenvolvedor A\r\n",
        "def lista1():\r\n",
        "  lista = []\r\n",
        "  for i in range(1000):\r\n",
        "    lista += [i]\r\n",
        "  return lista"
      ],
      "execution_count": 8,
      "outputs": []
    },
    {
      "cell_type": "code",
      "metadata": {
        "colab": {
          "base_uri": "https://localhost:8080/"
        },
        "id": "TohY8OHDdxwO",
        "outputId": "945adb82-a5e6-4bba-9e36-9752b4a35d08"
      },
      "source": [
        "print(lista1())"
      ],
      "execution_count": 10,
      "outputs": [
        {
          "output_type": "stream",
          "text": [
            "[0, 1, 2, 3, 4, 5, 6, 7, 8, 9, 10, 11, 12, 13, 14, 15, 16, 17, 18, 19, 20, 21, 22, 23, 24, 25, 26, 27, 28, 29, 30, 31, 32, 33, 34, 35, 36, 37, 38, 39, 40, 41, 42, 43, 44, 45, 46, 47, 48, 49, 50, 51, 52, 53, 54, 55, 56, 57, 58, 59, 60, 61, 62, 63, 64, 65, 66, 67, 68, 69, 70, 71, 72, 73, 74, 75, 76, 77, 78, 79, 80, 81, 82, 83, 84, 85, 86, 87, 88, 89, 90, 91, 92, 93, 94, 95, 96, 97, 98, 99, 100, 101, 102, 103, 104, 105, 106, 107, 108, 109, 110, 111, 112, 113, 114, 115, 116, 117, 118, 119, 120, 121, 122, 123, 124, 125, 126, 127, 128, 129, 130, 131, 132, 133, 134, 135, 136, 137, 138, 139, 140, 141, 142, 143, 144, 145, 146, 147, 148, 149, 150, 151, 152, 153, 154, 155, 156, 157, 158, 159, 160, 161, 162, 163, 164, 165, 166, 167, 168, 169, 170, 171, 172, 173, 174, 175, 176, 177, 178, 179, 180, 181, 182, 183, 184, 185, 186, 187, 188, 189, 190, 191, 192, 193, 194, 195, 196, 197, 198, 199, 200, 201, 202, 203, 204, 205, 206, 207, 208, 209, 210, 211, 212, 213, 214, 215, 216, 217, 218, 219, 220, 221, 222, 223, 224, 225, 226, 227, 228, 229, 230, 231, 232, 233, 234, 235, 236, 237, 238, 239, 240, 241, 242, 243, 244, 245, 246, 247, 248, 249, 250, 251, 252, 253, 254, 255, 256, 257, 258, 259, 260, 261, 262, 263, 264, 265, 266, 267, 268, 269, 270, 271, 272, 273, 274, 275, 276, 277, 278, 279, 280, 281, 282, 283, 284, 285, 286, 287, 288, 289, 290, 291, 292, 293, 294, 295, 296, 297, 298, 299, 300, 301, 302, 303, 304, 305, 306, 307, 308, 309, 310, 311, 312, 313, 314, 315, 316, 317, 318, 319, 320, 321, 322, 323, 324, 325, 326, 327, 328, 329, 330, 331, 332, 333, 334, 335, 336, 337, 338, 339, 340, 341, 342, 343, 344, 345, 346, 347, 348, 349, 350, 351, 352, 353, 354, 355, 356, 357, 358, 359, 360, 361, 362, 363, 364, 365, 366, 367, 368, 369, 370, 371, 372, 373, 374, 375, 376, 377, 378, 379, 380, 381, 382, 383, 384, 385, 386, 387, 388, 389, 390, 391, 392, 393, 394, 395, 396, 397, 398, 399, 400, 401, 402, 403, 404, 405, 406, 407, 408, 409, 410, 411, 412, 413, 414, 415, 416, 417, 418, 419, 420, 421, 422, 423, 424, 425, 426, 427, 428, 429, 430, 431, 432, 433, 434, 435, 436, 437, 438, 439, 440, 441, 442, 443, 444, 445, 446, 447, 448, 449, 450, 451, 452, 453, 454, 455, 456, 457, 458, 459, 460, 461, 462, 463, 464, 465, 466, 467, 468, 469, 470, 471, 472, 473, 474, 475, 476, 477, 478, 479, 480, 481, 482, 483, 484, 485, 486, 487, 488, 489, 490, 491, 492, 493, 494, 495, 496, 497, 498, 499, 500, 501, 502, 503, 504, 505, 506, 507, 508, 509, 510, 511, 512, 513, 514, 515, 516, 517, 518, 519, 520, 521, 522, 523, 524, 525, 526, 527, 528, 529, 530, 531, 532, 533, 534, 535, 536, 537, 538, 539, 540, 541, 542, 543, 544, 545, 546, 547, 548, 549, 550, 551, 552, 553, 554, 555, 556, 557, 558, 559, 560, 561, 562, 563, 564, 565, 566, 567, 568, 569, 570, 571, 572, 573, 574, 575, 576, 577, 578, 579, 580, 581, 582, 583, 584, 585, 586, 587, 588, 589, 590, 591, 592, 593, 594, 595, 596, 597, 598, 599, 600, 601, 602, 603, 604, 605, 606, 607, 608, 609, 610, 611, 612, 613, 614, 615, 616, 617, 618, 619, 620, 621, 622, 623, 624, 625, 626, 627, 628, 629, 630, 631, 632, 633, 634, 635, 636, 637, 638, 639, 640, 641, 642, 643, 644, 645, 646, 647, 648, 649, 650, 651, 652, 653, 654, 655, 656, 657, 658, 659, 660, 661, 662, 663, 664, 665, 666, 667, 668, 669, 670, 671, 672, 673, 674, 675, 676, 677, 678, 679, 680, 681, 682, 683, 684, 685, 686, 687, 688, 689, 690, 691, 692, 693, 694, 695, 696, 697, 698, 699, 700, 701, 702, 703, 704, 705, 706, 707, 708, 709, 710, 711, 712, 713, 714, 715, 716, 717, 718, 719, 720, 721, 722, 723, 724, 725, 726, 727, 728, 729, 730, 731, 732, 733, 734, 735, 736, 737, 738, 739, 740, 741, 742, 743, 744, 745, 746, 747, 748, 749, 750, 751, 752, 753, 754, 755, 756, 757, 758, 759, 760, 761, 762, 763, 764, 765, 766, 767, 768, 769, 770, 771, 772, 773, 774, 775, 776, 777, 778, 779, 780, 781, 782, 783, 784, 785, 786, 787, 788, 789, 790, 791, 792, 793, 794, 795, 796, 797, 798, 799, 800, 801, 802, 803, 804, 805, 806, 807, 808, 809, 810, 811, 812, 813, 814, 815, 816, 817, 818, 819, 820, 821, 822, 823, 824, 825, 826, 827, 828, 829, 830, 831, 832, 833, 834, 835, 836, 837, 838, 839, 840, 841, 842, 843, 844, 845, 846, 847, 848, 849, 850, 851, 852, 853, 854, 855, 856, 857, 858, 859, 860, 861, 862, 863, 864, 865, 866, 867, 868, 869, 870, 871, 872, 873, 874, 875, 876, 877, 878, 879, 880, 881, 882, 883, 884, 885, 886, 887, 888, 889, 890, 891, 892, 893, 894, 895, 896, 897, 898, 899, 900, 901, 902, 903, 904, 905, 906, 907, 908, 909, 910, 911, 912, 913, 914, 915, 916, 917, 918, 919, 920, 921, 922, 923, 924, 925, 926, 927, 928, 929, 930, 931, 932, 933, 934, 935, 936, 937, 938, 939, 940, 941, 942, 943, 944, 945, 946, 947, 948, 949, 950, 951, 952, 953, 954, 955, 956, 957, 958, 959, 960, 961, 962, 963, 964, 965, 966, 967, 968, 969, 970, 971, 972, 973, 974, 975, 976, 977, 978, 979, 980, 981, 982, 983, 984, 985, 986, 987, 988, 989, 990, 991, 992, 993, 994, 995, 996, 997, 998, 999]\n"
          ],
          "name": "stdout"
        }
      ]
    },
    {
      "cell_type": "code",
      "metadata": {
        "colab": {
          "base_uri": "https://localhost:8080/"
        },
        "id": "GWa7-ODzhtuO",
        "outputId": "b3953208-b306-4978-ebd0-8ec15ca3cfe5"
      },
      "source": [
        "%timeit lista1()"
      ],
      "execution_count": 11,
      "outputs": [
        {
          "output_type": "stream",
          "text": [
            "10000 loops, best of 3: 71.6 µs per loop\n"
          ],
          "name": "stdout"
        }
      ]
    },
    {
      "cell_type": "markdown",
      "metadata": {
        "id": "S9QDJZKSivxL"
      },
      "source": [
        "#### **Função 4**\r\n"
      ]
    },
    {
      "cell_type": "code",
      "metadata": {
        "id": "7t-DZQd4htib"
      },
      "source": [
        "# função desenvolvedor B\r\n",
        "def lista2():\r\n",
        "  return range(1000)"
      ],
      "execution_count": 12,
      "outputs": []
    },
    {
      "cell_type": "code",
      "metadata": {
        "id": "oljd40TFjraJ"
      },
      "source": [
        "l = lista2()\r\n",
        "for i in l:\r\n",
        "  print(i)"
      ],
      "execution_count": null,
      "outputs": []
    },
    {
      "cell_type": "code",
      "metadata": {
        "colab": {
          "base_uri": "https://localhost:8080/"
        },
        "id": "uKyt0iJKhtXE",
        "outputId": "b518f4da-3d7d-4a07-80d9-d29bc8fb77f2"
      },
      "source": [
        "%timeit lista2()"
      ],
      "execution_count": 20,
      "outputs": [
        {
          "output_type": "stream",
          "text": [
            "The slowest run took 13.16 times longer than the fastest. This could mean that an intermediate result is being cached.\n",
            "1000000 loops, best of 3: 266 ns per loop\n"
          ],
          "name": "stdout"
        }
      ]
    },
    {
      "cell_type": "markdown",
      "metadata": {
        "id": "BGQEa__Cdw9d"
      },
      "source": [
        ""
      ]
    },
    {
      "cell_type": "markdown",
      "metadata": {
        "id": "r16zEAYqcET6"
      },
      "source": [
        "### **3. VETORES NÃO ORDENADOS**"
      ]
    },
    {
      "cell_type": "markdown",
      "metadata": {
        "id": "CLuVByzOcEb5"
      },
      "source": [
        "### **4. VETORES ORDENADOS**"
      ]
    },
    {
      "cell_type": "markdown",
      "metadata": {
        "id": "G9dRJAdWcEhi"
      },
      "source": [
        "### **5. PILHAS, FILAS E DEQUES**"
      ]
    },
    {
      "cell_type": "markdown",
      "metadata": {
        "id": "l3EOsSHLcSPJ"
      },
      "source": [
        "### **6. LISTAS ENCADEADAS**"
      ]
    },
    {
      "cell_type": "markdown",
      "metadata": {
        "id": "rPn3Rzc-cSWQ"
      },
      "source": [
        "### **7. RECURSÃO**"
      ]
    },
    {
      "cell_type": "markdown",
      "metadata": {
        "id": "7lkVpM6VcSax"
      },
      "source": [
        "### **8. ALGORITMOS DE ORDENAÇÃO**"
      ]
    },
    {
      "cell_type": "markdown",
      "metadata": {
        "id": "pvU4_ShdcSfZ"
      },
      "source": [
        "### **9. ÁRVORES**"
      ]
    },
    {
      "cell_type": "markdown",
      "metadata": {
        "id": "HZaB3yMrcr4a"
      },
      "source": [
        "### **10. GRAFOS**"
      ]
    },
    {
      "cell_type": "markdown",
      "metadata": {
        "id": "yu5GWJhsjd3L"
      },
      "source": [
        "### **11. CONCLUSÃO**"
      ]
    }
  ]
}